{
 "cells": [
  {
   "cell_type": "markdown",
   "id": "d3ea9c08-796b-499d-a1ae-f8205f3d31d5",
   "metadata": {},
   "source": [
    "# Session 2 - Sorting Algotithms"
   ]
  },
  {
   "cell_type": "markdown",
   "id": "b8eaf1ca-534f-4e1e-b723-0da56518dc19",
   "metadata": {},
   "source": [
    "### Counting Sort"
   ]
  },
  {
   "cell_type": "code",
   "execution_count": 21,
   "id": "edf46f32-53b2-49a6-81fe-a4f38d3e6a58",
   "metadata": {},
   "outputs": [
    {
     "data": {
      "text/plain": [
       "[0,\n",
       " 1,\n",
       " 1,\n",
       " 1,\n",
       " 1,\n",
       " 1,\n",
       " 1,\n",
       " 2,\n",
       " 2,\n",
       " 2,\n",
       " 2,\n",
       " 2,\n",
       " 2,\n",
       " 2,\n",
       " 3,\n",
       " 3,\n",
       " 3,\n",
       " 3,\n",
       " 3,\n",
       " 3,\n",
       " 4,\n",
       " 4,\n",
       " 4,\n",
       " 4,\n",
       " 4,\n",
       " 5,\n",
       " 5,\n",
       " 5,\n",
       " 6,\n",
       " 6,\n",
       " 6,\n",
       " 6,\n",
       " 6,\n",
       " 6,\n",
       " 6,\n",
       " 7,\n",
       " 7,\n",
       " 7,\n",
       " 7,\n",
       " 7,\n",
       " 7,\n",
       " 7,\n",
       " 7,\n",
       " 8,\n",
       " 8,\n",
       " 8,\n",
       " 8,\n",
       " 8,\n",
       " 8,\n",
       " 9,\n",
       " 9,\n",
       " 9,\n",
       " 9,\n",
       " 9]"
      ]
     },
     "execution_count": 21,
     "metadata": {},
     "output_type": "execute_result"
    }
   ],
   "source": [
    "A = [8,7,1,2,6,4,8,7,6,2,3,4,9,7,2,1,9,8,3,7,5,4,9,7,1,6,2,5,4,7,1,6,2,9,3,8,3,4,8,6,7,1,2,3,6,8,1,6,2,0,3,5,9,7,]\n",
    "\n",
    "\n",
    "count = [0] * (max(A)+1)\n",
    "\n",
    "for num in A:\n",
    "    count[num] += 1\n",
    "    \n",
    "sorted_list = []    \n",
    "for i in range(max(A)+1):\n",
    "    sorted_list += [i] * count[i]\n",
    "    \n",
    "sorted_list"
   ]
  },
  {
   "cell_type": "code",
   "execution_count": null,
   "id": "d917c642-d0be-400b-9876-eafcec94c515",
   "metadata": {},
   "outputs": [],
   "source": []
  }
 ],
 "metadata": {
  "kernelspec": {
   "display_name": "Python 3 (ipykernel)",
   "language": "python",
   "name": "python3"
  },
  "language_info": {
   "codemirror_mode": {
    "name": "ipython",
    "version": 3
   },
   "file_extension": ".py",
   "mimetype": "text/x-python",
   "name": "python",
   "nbconvert_exporter": "python",
   "pygments_lexer": "ipython3",
   "version": "3.8.12"
  }
 },
 "nbformat": 4,
 "nbformat_minor": 5
}
